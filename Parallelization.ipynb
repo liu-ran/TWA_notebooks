{
 "cells": [
  {
   "cell_type": "code",
   "execution_count": 14,
   "metadata": {},
   "outputs": [],
   "source": [
    "import numpy as np\n",
    "import xarray as xr\n",
    "import os.path as op\n",
    "from dask.diagnostics import ProgressBar\n",
    "from xgcm.grid import Grid as xgrid\n",
    "from scipy.interpolate import interp1d\n",
    "from xmitgcm import open_mdsdataset\n",
    "from MITgcmutils import jmd95\n",
    "import matplotlib.pyplot as plt\n",
    "%matplotlib inline"
   ]
  },
  {
   "cell_type": "code",
   "execution_count": 2,
   "metadata": {},
   "outputs": [],
   "source": [
    "from xlayers import finegrid, layers\n",
    "from xlayers.core import layers_numpy"
   ]
  },
  {
   "cell_type": "code",
   "execution_count": 3,
   "metadata": {},
   "outputs": [],
   "source": [
    "ddir = '/tank/chaocean/'"
   ]
  },
  {
   "cell_type": "code",
   "execution_count": 4,
   "metadata": {},
   "outputs": [
    {
     "name": "stderr",
     "output_type": "stream",
     "text": [
      "/tank/users/tuchida/miniconda3/envs/ensemble/lib/python3.7/site-packages/xmitgcm/mds_store.py:837: UserWarning: Couldn't find available_diagnostics.log in /tank/chaocean/qjamet/RUNS/ORAR/memb00/run2012/ocn/ or /tank/chaocean/grid_chaO/gridMIT_update1/. Using default version.\n",
      "  \"in %s or %s. Using default version.\" % (data_dir, grid_dir))\n",
      "/tank/users/tuchida/miniconda3/envs/ensemble/lib/python3.7/site-packages/xmitgcm/mds_store.py:217: FutureWarning: In xarray version 0.15 `auto_combine` will be deprecated. See\n",
      "http://xarray.pydata.org/en/stable/combining.html#combining-multi\n",
      "  ds = xr.auto_combine(datasets)\n",
      "/tank/users/tuchida/miniconda3/envs/ensemble/lib/python3.7/site-packages/xmitgcm/mds_store.py:217: FutureWarning: The datasets supplied have global dimension coordinates. You may want\n",
      "to use the new `combine_by_coords` function (or the\n",
      "`combine='by_coords'` option to `open_mfdataset`) to order the datasets\n",
      "before concatenation. Alternatively, to continue concatenating based\n",
      "on the order the datasets are supplied in future, please use the new\n",
      "`combine_nested` function (or the `combine='nested'` option to\n",
      "open_mfdataset).The datasets supplied require both concatenation and merging. From\n",
      "xarray version 0.15 this will operation will require either using the\n",
      "new `combine_nested` function (or the `combine='nested'` option to\n",
      "open_mfdataset), with a nested list structure such that you can combine\n",
      "along the dimensions None. Alternatively if your datasets have global\n",
      "dimension coordinates then you can use the new `combine_by_coords`\n",
      "function.\n",
      "  ds = xr.auto_combine(datasets)\n",
      "/tank/users/tuchida/miniconda3/envs/ensemble/lib/python3.7/site-packages/xmitgcm/mds_store.py:837: UserWarning: Couldn't find available_diagnostics.log in /tank/chaocean/qjamet/RUNS/ORAR/memb01/run2012/ocn/ or /tank/chaocean/grid_chaO/gridMIT_update1/. Using default version.\n",
      "  \"in %s or %s. Using default version.\" % (data_dir, grid_dir))\n",
      "/tank/users/tuchida/miniconda3/envs/ensemble/lib/python3.7/site-packages/xmitgcm/mds_store.py:217: FutureWarning: In xarray version 0.15 `auto_combine` will be deprecated. See\n",
      "http://xarray.pydata.org/en/stable/combining.html#combining-multi\n",
      "  ds = xr.auto_combine(datasets)\n",
      "/tank/users/tuchida/miniconda3/envs/ensemble/lib/python3.7/site-packages/xmitgcm/mds_store.py:217: FutureWarning: The datasets supplied have global dimension coordinates. You may want\n",
      "to use the new `combine_by_coords` function (or the\n",
      "`combine='by_coords'` option to `open_mfdataset`) to order the datasets\n",
      "before concatenation. Alternatively, to continue concatenating based\n",
      "on the order the datasets are supplied in future, please use the new\n",
      "`combine_nested` function (or the `combine='nested'` option to\n",
      "open_mfdataset).The datasets supplied require both concatenation and merging. From\n",
      "xarray version 0.15 this will operation will require either using the\n",
      "new `combine_nested` function (or the `combine='nested'` option to\n",
      "open_mfdataset), with a nested list structure such that you can combine\n",
      "along the dimensions None. Alternatively if your datasets have global\n",
      "dimension coordinates then you can use the new `combine_by_coords`\n",
      "function.\n",
      "  ds = xr.auto_combine(datasets)\n",
      "/tank/users/tuchida/miniconda3/envs/ensemble/lib/python3.7/site-packages/xmitgcm/mds_store.py:837: UserWarning: Couldn't find available_diagnostics.log in /tank/chaocean/qjamet/RUNS/ORAR/memb02/run2012/ocn/ or /tank/chaocean/grid_chaO/gridMIT_update1/. Using default version.\n",
      "  \"in %s or %s. Using default version.\" % (data_dir, grid_dir))\n",
      "/tank/users/tuchida/miniconda3/envs/ensemble/lib/python3.7/site-packages/xmitgcm/mds_store.py:217: FutureWarning: In xarray version 0.15 `auto_combine` will be deprecated. See\n",
      "http://xarray.pydata.org/en/stable/combining.html#combining-multi\n",
      "  ds = xr.auto_combine(datasets)\n",
      "/tank/users/tuchida/miniconda3/envs/ensemble/lib/python3.7/site-packages/xmitgcm/mds_store.py:217: FutureWarning: The datasets supplied have global dimension coordinates. You may want\n",
      "to use the new `combine_by_coords` function (or the\n",
      "`combine='by_coords'` option to `open_mfdataset`) to order the datasets\n",
      "before concatenation. Alternatively, to continue concatenating based\n",
      "on the order the datasets are supplied in future, please use the new\n",
      "`combine_nested` function (or the `combine='nested'` option to\n",
      "open_mfdataset).The datasets supplied require both concatenation and merging. From\n",
      "xarray version 0.15 this will operation will require either using the\n",
      "new `combine_nested` function (or the `combine='nested'` option to\n",
      "open_mfdataset), with a nested list structure such that you can combine\n",
      "along the dimensions None. Alternatively if your datasets have global\n",
      "dimension coordinates then you can use the new `combine_by_coords`\n",
      "function.\n",
      "  ds = xr.auto_combine(datasets)\n",
      "/tank/users/tuchida/miniconda3/envs/ensemble/lib/python3.7/site-packages/xmitgcm/mds_store.py:837: UserWarning: Couldn't find available_diagnostics.log in /tank/chaocean/qjamet/RUNS/ORAR/memb03/run2012/ocn/ or /tank/chaocean/grid_chaO/gridMIT_update1/. Using default version.\n",
      "  \"in %s or %s. Using default version.\" % (data_dir, grid_dir))\n",
      "/tank/users/tuchida/miniconda3/envs/ensemble/lib/python3.7/site-packages/xmitgcm/mds_store.py:217: FutureWarning: In xarray version 0.15 `auto_combine` will be deprecated. See\n",
      "http://xarray.pydata.org/en/stable/combining.html#combining-multi\n",
      "  ds = xr.auto_combine(datasets)\n",
      "/tank/users/tuchida/miniconda3/envs/ensemble/lib/python3.7/site-packages/xmitgcm/mds_store.py:217: FutureWarning: The datasets supplied have global dimension coordinates. You may want\n",
      "to use the new `combine_by_coords` function (or the\n",
      "`combine='by_coords'` option to `open_mfdataset`) to order the datasets\n",
      "before concatenation. Alternatively, to continue concatenating based\n",
      "on the order the datasets are supplied in future, please use the new\n",
      "`combine_nested` function (or the `combine='nested'` option to\n",
      "open_mfdataset).The datasets supplied require both concatenation and merging. From\n",
      "xarray version 0.15 this will operation will require either using the\n",
      "new `combine_nested` function (or the `combine='nested'` option to\n",
      "open_mfdataset), with a nested list structure such that you can combine\n",
      "along the dimensions None. Alternatively if your datasets have global\n",
      "dimension coordinates then you can use the new `combine_by_coords`\n",
      "function.\n",
      "  ds = xr.auto_combine(datasets)\n"
     ]
    },
    {
     "data": {
      "text/plain": [
       "<xarray.Dataset>\n",
       "Dimensions:  (XC: 1000, XG: 1000, YC: 900, YG: 900, Z: 46, Zl: 46, Zp1: 47, Zu: 46, time: 4)\n",
       "Coordinates:\n",
       "    dxG      (YG, XC) >f4 8993.141 8993.141 8993.141 ... 5493.54 5493.54 5493.54\n",
       "    dyG      (YC, XG) >f4 9264.79 9264.79 9264.79 ... 9264.79 9264.79 9264.79\n",
       "    iter     int64 8516880\n",
       "    maskS    (Z, YG, XC) bool True True True True ... False False False False\n",
       "    drF      (Z) >f4 6.0935454 6.721007 7.098827 ... 249.91599 250.46292\n",
       "    PHrefF   (Zp1) >f4 0.0 59.77768 125.710754 ... 53954.938 56406.613 58863.656\n",
       "    maskW    (Z, YC, XG) bool True True True True ... False False False False\n",
       "    rAs      (YG, XC) >f4 83319550.0 83319550.0 ... 50896490.0 50896490.0\n",
       "    hFacC    (Z, YC, XC) >f4 1.0 1.0 1.0 1.0 1.0 1.0 ... 0.0 0.0 0.0 0.0 0.0 0.0\n",
       "    rAw      (YC, XG) >f4 83341540.0 83341540.0 ... 50843696.0 50843696.0\n",
       "    maskC    (Z, YC, XC) bool True True True True ... False False False False\n",
       "    maskInW  (YC, XG) bool False False False False ... False False False False\n",
       "    rA       (YC, XC) >f4 83341540.0 83341540.0 ... 50843696.0 50843696.0\n",
       "    dxC      (YC, XG) >f4 8995.514 8995.514 8995.514 ... 5487.842 5487.842\n",
       "    maskInS  (YG, XC) bool False False False False False ... True True True True\n",
       "    PHrefC   (Z) >f4 29.88884 92.74422 160.5305 ... 55180.777 57635.133\n",
       "    hFacS    (Z, YG, XC) >f4 1.0 1.0 1.0 1.0 1.0 1.0 ... 0.0 0.0 0.0 0.0 0.0 0.0\n",
       "    Depth    (YC, XC) >f4 3440.756 3215.3306 2099.5483 ... 2916.6108 2823.8076\n",
       "    dyC      (YG, XC) >f4 9264.79 9264.79 9264.79 ... 9264.79 9264.79 9264.79\n",
       "    rAz      (YG, XG) >f4 83319550.0 83319550.0 ... 50896490.0 50896490.0\n",
       "    maskInC  (YC, XC) bool False False False False ... False False False False\n",
       "    hFacW    (Z, YC, XG) >f4 1.0 1.0 1.0 1.0 1.0 1.0 ... 0.0 0.0 0.0 0.0 0.0 0.0\n",
       "    drC      (Zp1) >f4 3.0467727 6.407276 6.909917 ... 250.18945 125.23146\n",
       "  * Zl       (Zl) >f4 0.0 -6.0935454 -12.814552 ... -5499.9937 -5749.9097\n",
       "  * XG       (XG) >f4 261.957 262.04306 262.12912 ... 347.8434 347.92947\n",
       "  * Zu       (Zu) >f4 -6.0935454 -12.814552 -19.91338 ... -5749.9097 -6000.3726\n",
       "  * XC       (XC) >f4 262.00003 262.0861 262.17215 ... 347.88644 347.9725\n",
       "  * YG       (YG) >f4 -19.9583 -19.874968 -19.791634 ... 54.875034 54.95837\n",
       "  * YC       (YC) >f4 -19.916634 -19.8333 -19.749968 ... 54.916702 55.000034\n",
       "  * Zp1      (Zp1) >f4 0.0 -6.0935454 -12.814552 ... -5749.9097 -6000.3726\n",
       "  * Z        (Z) >f4 -3.0467727 -9.454049 -16.363966 ... -5624.9517 -5875.141\n",
       "  * time     (time) float64 1.703e+09 1.703e+09 1.703e+09 1.703e+09\n",
       "Data variables:\n",
       "    THETA    (time, Z, YC, XC) float32 dask.array<chunksize=(1, 46, 900, 500), meta=np.ndarray>\n",
       "    SALT     (time, Z, YC, XC) float32 dask.array<chunksize=(1, 46, 900, 500), meta=np.ndarray>\n",
       "    UVEL     (time, Z, YC, XG) float32 dask.array<chunksize=(1, 46, 900, 500), meta=np.ndarray>\n",
       "    VVEL     (time, Z, YG, XC) float32 dask.array<chunksize=(1, 46, 900, 500), meta=np.ndarray>\n",
       "    WVEL     (time, Zl, YC, XC) float32 dask.array<chunksize=(1, 46, 900, 500), meta=np.ndarray>"
      ]
     },
     "execution_count": 4,
     "metadata": {},
     "output_type": "execute_result"
    }
   ],
   "source": [
    "xchunk = 500\n",
    "for nmemb in range(4):\n",
    "    if nmemb == 0:\n",
    "        ds = open_mdsdataset(op.join(ddir,'qjamet/RUNS/ORAR/memb%02d/run2012/ocn/' % nmemb), \n",
    "                             grid_dir = op.join(ddir,'grid_chaO/gridMIT_update1/'),\n",
    "                             prefix = ['diag_ocnTave'], delta_t = 2e2\n",
    "                            ).isel(time=0).chunk({'XC':xchunk,'XG':xchunk})\n",
    "    else:\n",
    "        ds = xr.concat([ds, open_mdsdataset(op.join(ddir,'qjamet/RUNS/ORAR/memb%02d/run2012/ocn/' % nmemb), \n",
    "                                            grid_dir = op.join(ddir,'grid_chaO/gridMIT_update1/'),\n",
    "                                            prefix = ['diag_ocnTave'], delta_t = 2e2\n",
    "                                           ).isel(time=0).chunk({'XC':xchunk,'XG':xchunk})],\n",
    "                      dim='time')\n",
    "ds"
   ]
  },
  {
   "cell_type": "code",
   "execution_count": 5,
   "metadata": {},
   "outputs": [
    {
     "data": {
      "text/plain": [
       "<xgcm.Grid>\n",
       "T Axis (not periodic):\n",
       "  * center   time\n",
       "Y Axis (not periodic):\n",
       "  * center   YC --> left\n",
       "  * left     YG --> center\n",
       "X Axis (periodic):\n",
       "  * center   XC --> left\n",
       "  * left     XG --> center\n",
       "Z Axis (not periodic):\n",
       "  * center   Z --> left\n",
       "  * left     Zl --> center\n",
       "  * outer    Zp1 --> center\n",
       "  * right    Zu --> center"
      ]
     },
     "execution_count": 5,
     "metadata": {},
     "output_type": "execute_result"
    }
   ],
   "source": [
    "grid = xgrid(ds, periodic=['X'])\n",
    "grid"
   ]
  },
  {
   "cell_type": "code",
   "execution_count": 6,
   "metadata": {},
   "outputs": [
    {
     "data": {
      "text/plain": [
       "<xarray.DataArray (time: 4, Z: 46, YC: 900, XC: 1000)>\n",
       "dask.array<densjmd95, shape=(4, 46, 900, 1000), dtype=float64, chunksize=(1, 46, 900, 500), chunktype=numpy.ndarray>\n",
       "Coordinates:\n",
       "    iter     int64 8516880\n",
       "    drF      (Z) >f4 6.0935454 6.721007 7.098827 ... 249.91599 250.46292\n",
       "    hFacC    (Z, YC, XC) >f4 1.0 1.0 1.0 1.0 1.0 1.0 ... 0.0 0.0 0.0 0.0 0.0 0.0\n",
       "    maskC    (Z, YC, XC) bool True True True True ... False False False False\n",
       "    rA       (YC, XC) >f4 83341540.0 83341540.0 ... 50843696.0 50843696.0\n",
       "    PHrefC   (Z) >f4 29.88884 92.74422 160.5305 ... 55180.777 57635.133\n",
       "    Depth    (YC, XC) >f4 3440.756 3215.3306 2099.5483 ... 2916.6108 2823.8076\n",
       "    maskInC  (YC, XC) bool False False False False ... False False False False\n",
       "  * XC       (XC) >f4 262.00003 262.0861 262.17215 ... 347.88644 347.9725\n",
       "  * YC       (YC) >f4 -19.916634 -19.8333 -19.749968 ... 54.916702 55.000034\n",
       "  * Z        (Z) >f4 -3.0467727 -9.454049 -16.363966 ... -5624.9517 -5875.141\n",
       "  * time     (time) float64 1.703e+09 1.703e+09 1.703e+09 1.703e+09"
      ]
     },
     "execution_count": 6,
     "metadata": {},
     "output_type": "execute_result"
    }
   ],
   "source": [
    "rho2 = xr.apply_ufunc(jmd95.densjmd95, ds.SALT, ds.THETA, 20e2, \n",
    "                     dask='parallelized', output_dtypes=[float]\n",
    "                     )\n",
    "rho2y = xr.apply_ufunc(jmd95.densjmd95, grid.interp(ds.SALT,'Y',boundary='fill'), \n",
    "                      grid.interp(ds.THETA,'Y',boundary='fill'), 20e2, \n",
    "                      dask='parallelized', output_dtypes=[float]\n",
    "                      )\n",
    "rho2"
   ]
  },
  {
   "cell_type": "code",
   "execution_count": 7,
   "metadata": {},
   "outputs": [
    {
     "data": {
      "text/plain": [
       "[<matplotlib.lines.Line2D at 0x7f506ff014a8>]"
      ]
     },
     "execution_count": 7,
     "metadata": {},
     "output_type": "execute_result"
    },
    {
     "data": {
      "image/png": "[encoded data removed]",
      "text/plain": [
       "<Figure size 432x288 with 1 Axes>"
      ]
     },
     "metadata": {
      "needs_background": "light"
     },
     "output_type": "display_data"
    }
   ],
   "source": [
    "# drf_finer, mapindex, mapfact, cellindex = finegrid.finegrid(np.squeeze(ds.drF),np.squeeze(ds.drC),ds.drF.size)\n",
    "drf_finer, mapindex, mapfact, cellindex = finegrid.finegrid(np.squeeze(ds.drF.sel(Z=slice(None,None))),\n",
    "                                                            np.squeeze(ds.drC.sel(Zp1=slice(None,None))),\n",
    "                                                            10)\n",
    "plt.plot(cellindex)"
   ]
  },
  {
   "cell_type": "code",
   "execution_count": 17,
   "metadata": {},
   "outputs": [
    {
     "name": "stdout",
     "output_type": "stream",
     "text": [
      "<xarray.DataArray 'VVEL' (time: 4, Z: 46, YG: 781, XC: 1000)>\n",
      "dask.array<getitem, shape=(4, 46, 781, 1000), dtype=float32, chunksize=(1, 46, 781, 500), chunktype=numpy.ndarray>\n",
      "Coordinates:\n",
      "    dxG      (YG, XC) >f4 9243.555 9243.555 9243.555 ... 6144.707 6144.707\n",
      "    rAs      (YG, XC) >f4 85639580.0 85639580.0 ... 56929412.0 56929412.0\n",
      "    maskInS  (YG, XC) bool True True True True True ... True True True True True\n",
      "    dyC      (YG, XC) >f4 9264.79 9264.79 9264.79 ... 9264.79 9264.79 9264.79\n",
      "  * XC       (XC) >f4 262.00003 262.0861 262.17215 ... 347.88644 347.9725\n",
      "  * YG       (YG) >f4 -14.9583 -14.874967 -14.791634 ... 49.95837 50.041702\n",
      "  * Z        (Z) >f4 -3.0467727 -9.454049 -16.363966 ... -5624.9517 -5875.141\n",
      "  * time     (time) float64 1.703e+09 1.703e+09 1.703e+09 1.703e+09\n",
      "Attributes:\n",
      "    standard_name:  VVEL\n",
      "    long_name:      Meridional Component of Velocity (m/s)\n",
      "    units:          m/s\n",
      "    mate:           UVEL <xarray.DataArray (time: 4, Z: 46, YG: 781, XC: 1000)>\n",
      "dask.array<sub, shape=(4, 46, 781, 1000), dtype=float64, chunksize=(1, 46, 781, 500), chunktype=numpy.ndarray>\n",
      "Coordinates:\n",
      "  * time     (time) float64 1.703e+09 1.703e+09 1.703e+09 1.703e+09\n",
      "  * Z        (Z) >f4 -3.0467727 -9.454049 -16.363966 ... -5624.9517 -5875.141\n",
      "  * YG       (YG) >f4 -14.9583 -14.874967 -14.791634 ... 49.95837 50.041702\n",
      "  * XC       (XC) >f4 262.00003 262.0861 262.17215 ... 347.88644 347.9725\n",
      "    dxG      (YG, XC) >f4 9243.555 9243.555 9243.555 ... 6144.707 6144.707\n",
      "    rAs      (YG, XC) >f4 85639580.0 85639580.0 ... 56929412.0 56929412.0\n",
      "    maskInS  (YG, XC) bool True True True True True ... True True True True True\n",
      "    dyC      (YG, XC) >f4 9264.79 9264.79 9264.79 ... 9264.79 9264.79 9264.79\n"
     ]
    }
   ],
   "source": [
    "v_in = ds.VVEL.where(ds.maskS!=0.).sel(YG=slice(-15,50+12**-1)\n",
    "                                      ).drop(['maskS','drF','PHrefC','hFacS','iter'])\n",
    "densy_in = rho2y.where(ds.maskS!=0.).sel(YG=slice(-15,50+12**-1)\n",
    "                                        ).drop(['maskS','drF','PHrefC','hFacS','iter']) - 1e3\n",
    "print(v_in, densy_in)"
   ]
  },
  {
   "cell_type": "code",
   "execution_count": 15,
   "metadata": {},
   "outputs": [],
   "source": [
    "# Dsig = 11.\n",
    "# tmp = np.log(np.linspace(np.exp(1),np.exp(10),101))\n",
    "# tmp2 = tmp[1:] - tmp[1]\n",
    "# tmp2 *= tmp2[-1]**-1 * Dsig\n",
    "# print(tmp2)\n",
    "# siglayers = 27. + tmp2\n",
    "# plt.plot(siglayers, 'k.-')\n",
    "Dsig = 9.7\n",
    "nlayers = 43\n",
    "# tmp = np.log(np.linspace(np.exp(1),np.exp(10),101))\n",
    "# tmp2 = tmp[1:] - tmp[1]\n",
    "# tmp2 *= tmp2[-1]**-1 * Dsig\n",
    "# print(tmp2)\n",
    "tmp = np.tanh(np.linspace(-2.,2.75,nlayers))\n",
    "tmp += np.abs(tmp.min())\n",
    "tmp *= tmp.max()**-1 * Dsig\n",
    "# print(tmp)\n",
    "siglayers = 27.5 + tmp\n",
    "func = interp1d(range(1,nlayers+1), siglayers, fill_value='extrapolate')\n",
    "sigp1layers = func(np.arange(.5,nlayers+1.5,1))"
   ]
  },
  {
   "cell_type": "code",
   "execution_count": 18,
   "metadata": {},
   "outputs": [
    {
     "name": "stdout",
     "output_type": "stream",
     "text": [
      "[####################################    ] | 90% Completed | 11.1sWarning: theta_in may not be monotonically ascending/descending\n",
      "[####################################    ] | 90% Completed | 11.2sWarning: theta_in may not be monotonically ascending/descending\n",
      "[####################################    ] | 90% Completed | 11.4sWarning: theta_in may not be monotonically ascending/descending\n",
      "[####################################    ] | 90% Completed | 11.5sWarning: theta_in may not be monotonically ascending/descending\n",
      "[######################################  ] | 97% Completed | 35.8sWarning: theta_in may not be monotonically ascending/descending\n",
      "[####################################### ] | 98% Completed | 36.0sWarning: theta_in may not be monotonically ascending/descending\n",
      "Warning: theta_in may not be monotonically ascending/descending\n",
      "[####################################### ] | 98% Completed | 36.2sWarning: theta_in may not be monotonically ascending/descending\n",
      "[########################################] | 100% Completed |  1min  3.0s\n"
     ]
    },
    {
     "ename": "IndexError",
     "evalue": "tuple index out of range",
     "output_type": "error",
     "traceback": [
      "\u001b[0;31m---------------------------------------------------------------------------\u001b[0m",
      "\u001b[0;31mIndexError\u001b[0m                                Traceback (most recent call last)",
      "\u001b[0;32m<ipython-input-18-1e792636a299>\u001b[0m in \u001b[0;36m<module>\u001b[0;34m\u001b[0m\n\u001b[1;32m     11\u001b[0m \u001b[0;31m#                            output_core_dims=(['sig2lev']),\u001b[0m\u001b[0;34m\u001b[0m\u001b[0;34m\u001b[0m\u001b[0;34m\u001b[0m\u001b[0m\n\u001b[1;32m     12\u001b[0m \u001b[0;31m#                            exclude_dims=set(['Z']),\u001b[0m\u001b[0;34m\u001b[0m\u001b[0;34m\u001b[0m\u001b[0;34m\u001b[0m\u001b[0m\n\u001b[0;32m---> 13\u001b[0;31m                         \u001b[0moutput_dtypes\u001b[0m\u001b[0;34m=\u001b[0m\u001b[0;34m[\u001b[0m\u001b[0mfloat\u001b[0m\u001b[0;34m,\u001b[0m\u001b[0;34m]\u001b[0m\u001b[0;34m,\u001b[0m \u001b[0moutput_sizes\u001b[0m\u001b[0;34m=\u001b[0m\u001b[0;34m{\u001b[0m\u001b[0;34m'sig2lev'\u001b[0m\u001b[0;34m:\u001b[0m\u001b[0msiglayers\u001b[0m\u001b[0;34m.\u001b[0m\u001b[0msize\u001b[0m\u001b[0;34m}\u001b[0m\u001b[0;34m\u001b[0m\u001b[0;34m\u001b[0m\u001b[0m\n\u001b[0m\u001b[1;32m     14\u001b[0m                         ).compute()\n\u001b[1;32m     15\u001b[0m \u001b[0;34m\u001b[0m\u001b[0m\n",
      "\u001b[0;32m~/miniconda3/envs/ensemble/lib/python3.7/site-packages/xarray/core/dataarray.py\u001b[0m in \u001b[0;36mcompute\u001b[0;34m(self, **kwargs)\u001b[0m\n\u001b[1;32m    831\u001b[0m         \"\"\"\n\u001b[1;32m    832\u001b[0m         \u001b[0mnew\u001b[0m \u001b[0;34m=\u001b[0m \u001b[0mself\u001b[0m\u001b[0;34m.\u001b[0m\u001b[0mcopy\u001b[0m\u001b[0;34m(\u001b[0m\u001b[0mdeep\u001b[0m\u001b[0;34m=\u001b[0m\u001b[0;32mFalse\u001b[0m\u001b[0;34m)\u001b[0m\u001b[0;34m\u001b[0m\u001b[0;34m\u001b[0m\u001b[0m\n\u001b[0;32m--> 833\u001b[0;31m         \u001b[0;32mreturn\u001b[0m \u001b[0mnew\u001b[0m\u001b[0;34m.\u001b[0m\u001b[0mload\u001b[0m\u001b[0;34m(\u001b[0m\u001b[0;34m**\u001b[0m\u001b[0mkwargs\u001b[0m\u001b[0;34m)\u001b[0m\u001b[0;34m\u001b[0m\u001b[0;34m\u001b[0m\u001b[0m\n\u001b[0m\u001b[1;32m    834\u001b[0m \u001b[0;34m\u001b[0m\u001b[0m\n\u001b[1;32m    835\u001b[0m     \u001b[0;32mdef\u001b[0m \u001b[0mpersist\u001b[0m\u001b[0;34m(\u001b[0m\u001b[0mself\u001b[0m\u001b[0;34m,\u001b[0m \u001b[0;34m**\u001b[0m\u001b[0mkwargs\u001b[0m\u001b[0;34m)\u001b[0m \u001b[0;34m->\u001b[0m \u001b[0;34m\"DataArray\"\u001b[0m\u001b[0;34m:\u001b[0m\u001b[0;34m\u001b[0m\u001b[0;34m\u001b[0m\u001b[0m\n",
      "\u001b[0;32m~/miniconda3/envs/ensemble/lib/python3.7/site-packages/xarray/core/dataarray.py\u001b[0m in \u001b[0;36mload\u001b[0;34m(self, **kwargs)\u001b[0m\n\u001b[1;32m    805\u001b[0m         \u001b[0mdask\u001b[0m\u001b[0;34m.\u001b[0m\u001b[0marray\u001b[0m\u001b[0;34m.\u001b[0m\u001b[0mcompute\u001b[0m\u001b[0;34m\u001b[0m\u001b[0;34m\u001b[0m\u001b[0m\n\u001b[1;32m    806\u001b[0m         \"\"\"\n\u001b[0;32m--> 807\u001b[0;31m         \u001b[0mds\u001b[0m \u001b[0;34m=\u001b[0m \u001b[0mself\u001b[0m\u001b[0;34m.\u001b[0m\u001b[0m_to_temp_dataset\u001b[0m\u001b[0;34m(\u001b[0m\u001b[0;34m)\u001b[0m\u001b[0;34m.\u001b[0m\u001b[0mload\u001b[0m\u001b[0;34m(\u001b[0m\u001b[0;34m**\u001b[0m\u001b[0mkwargs\u001b[0m\u001b[0;34m)\u001b[0m\u001b[0;34m\u001b[0m\u001b[0;34m\u001b[0m\u001b[0m\n\u001b[0m\u001b[1;32m    808\u001b[0m         \u001b[0mnew\u001b[0m \u001b[0;34m=\u001b[0m \u001b[0mself\u001b[0m\u001b[0;34m.\u001b[0m\u001b[0m_from_temp_dataset\u001b[0m\u001b[0;34m(\u001b[0m\u001b[0mds\u001b[0m\u001b[0;34m)\u001b[0m\u001b[0;34m\u001b[0m\u001b[0;34m\u001b[0m\u001b[0m\n\u001b[1;32m    809\u001b[0m         \u001b[0mself\u001b[0m\u001b[0;34m.\u001b[0m\u001b[0m_variable\u001b[0m \u001b[0;34m=\u001b[0m \u001b[0mnew\u001b[0m\u001b[0;34m.\u001b[0m\u001b[0m_variable\u001b[0m\u001b[0;34m\u001b[0m\u001b[0;34m\u001b[0m\u001b[0m\n",
      "\u001b[0;32m~/miniconda3/envs/ensemble/lib/python3.7/site-packages/xarray/core/dataset.py\u001b[0m in \u001b[0;36mload\u001b[0;34m(self, **kwargs)\u001b[0m\n\u001b[1;32m    637\u001b[0m \u001b[0;34m\u001b[0m\u001b[0m\n\u001b[1;32m    638\u001b[0m             \u001b[0;31m# evaluate all the dask arrays simultaneously\u001b[0m\u001b[0;34m\u001b[0m\u001b[0;34m\u001b[0m\u001b[0;34m\u001b[0m\u001b[0m\n\u001b[0;32m--> 639\u001b[0;31m             \u001b[0mevaluated_data\u001b[0m \u001b[0;34m=\u001b[0m \u001b[0mda\u001b[0m\u001b[0;34m.\u001b[0m\u001b[0mcompute\u001b[0m\u001b[0;34m(\u001b[0m\u001b[0;34m*\u001b[0m\u001b[0mlazy_data\u001b[0m\u001b[0;34m.\u001b[0m\u001b[0mvalues\u001b[0m\u001b[0;34m(\u001b[0m\u001b[0;34m)\u001b[0m\u001b[0;34m,\u001b[0m \u001b[0;34m**\u001b[0m\u001b[0mkwargs\u001b[0m\u001b[0;34m)\u001b[0m\u001b[0;34m\u001b[0m\u001b[0;34m\u001b[0m\u001b[0m\n\u001b[0m\u001b[1;32m    640\u001b[0m \u001b[0;34m\u001b[0m\u001b[0m\n\u001b[1;32m    641\u001b[0m             \u001b[0;32mfor\u001b[0m \u001b[0mk\u001b[0m\u001b[0;34m,\u001b[0m \u001b[0mdata\u001b[0m \u001b[0;32min\u001b[0m \u001b[0mzip\u001b[0m\u001b[0;34m(\u001b[0m\u001b[0mlazy_data\u001b[0m\u001b[0;34m,\u001b[0m \u001b[0mevaluated_data\u001b[0m\u001b[0;34m)\u001b[0m\u001b[0;34m:\u001b[0m\u001b[0;34m\u001b[0m\u001b[0;34m\u001b[0m\u001b[0m\n",
      "\u001b[0;32m~/miniconda3/envs/ensemble/lib/python3.7/site-packages/dask/base.py\u001b[0m in \u001b[0;36mcompute\u001b[0;34m(*args, **kwargs)\u001b[0m\n\u001b[1;32m    435\u001b[0m     \u001b[0mpostcomputes\u001b[0m \u001b[0;34m=\u001b[0m \u001b[0;34m[\u001b[0m\u001b[0mx\u001b[0m\u001b[0;34m.\u001b[0m\u001b[0m__dask_postcompute__\u001b[0m\u001b[0;34m(\u001b[0m\u001b[0;34m)\u001b[0m \u001b[0;32mfor\u001b[0m \u001b[0mx\u001b[0m \u001b[0;32min\u001b[0m \u001b[0mcollections\u001b[0m\u001b[0;34m]\u001b[0m\u001b[0;34m\u001b[0m\u001b[0;34m\u001b[0m\u001b[0m\n\u001b[1;32m    436\u001b[0m     \u001b[0mresults\u001b[0m \u001b[0;34m=\u001b[0m \u001b[0mschedule\u001b[0m\u001b[0;34m(\u001b[0m\u001b[0mdsk\u001b[0m\u001b[0;34m,\u001b[0m \u001b[0mkeys\u001b[0m\u001b[0;34m,\u001b[0m \u001b[0;34m**\u001b[0m\u001b[0mkwargs\u001b[0m\u001b[0;34m)\u001b[0m\u001b[0;34m\u001b[0m\u001b[0;34m\u001b[0m\u001b[0m\n\u001b[0;32m--> 437\u001b[0;31m     \u001b[0;32mreturn\u001b[0m \u001b[0mrepack\u001b[0m\u001b[0;34m(\u001b[0m\u001b[0;34m[\u001b[0m\u001b[0mf\u001b[0m\u001b[0;34m(\u001b[0m\u001b[0mr\u001b[0m\u001b[0;34m,\u001b[0m \u001b[0;34m*\u001b[0m\u001b[0ma\u001b[0m\u001b[0;34m)\u001b[0m \u001b[0;32mfor\u001b[0m \u001b[0mr\u001b[0m\u001b[0;34m,\u001b[0m \u001b[0;34m(\u001b[0m\u001b[0mf\u001b[0m\u001b[0;34m,\u001b[0m \u001b[0ma\u001b[0m\u001b[0;34m)\u001b[0m \u001b[0;32min\u001b[0m \u001b[0mzip\u001b[0m\u001b[0;34m(\u001b[0m\u001b[0mresults\u001b[0m\u001b[0;34m,\u001b[0m \u001b[0mpostcomputes\u001b[0m\u001b[0;34m)\u001b[0m\u001b[0;34m]\u001b[0m\u001b[0;34m)\u001b[0m\u001b[0;34m\u001b[0m\u001b[0;34m\u001b[0m\u001b[0m\n\u001b[0m\u001b[1;32m    438\u001b[0m \u001b[0;34m\u001b[0m\u001b[0m\n\u001b[1;32m    439\u001b[0m \u001b[0;34m\u001b[0m\u001b[0m\n",
      "\u001b[0;32m~/miniconda3/envs/ensemble/lib/python3.7/site-packages/dask/base.py\u001b[0m in \u001b[0;36m<listcomp>\u001b[0;34m(.0)\u001b[0m\n\u001b[1;32m    435\u001b[0m     \u001b[0mpostcomputes\u001b[0m \u001b[0;34m=\u001b[0m \u001b[0;34m[\u001b[0m\u001b[0mx\u001b[0m\u001b[0;34m.\u001b[0m\u001b[0m__dask_postcompute__\u001b[0m\u001b[0;34m(\u001b[0m\u001b[0;34m)\u001b[0m \u001b[0;32mfor\u001b[0m \u001b[0mx\u001b[0m \u001b[0;32min\u001b[0m \u001b[0mcollections\u001b[0m\u001b[0;34m]\u001b[0m\u001b[0;34m\u001b[0m\u001b[0;34m\u001b[0m\u001b[0m\n\u001b[1;32m    436\u001b[0m     \u001b[0mresults\u001b[0m \u001b[0;34m=\u001b[0m \u001b[0mschedule\u001b[0m\u001b[0;34m(\u001b[0m\u001b[0mdsk\u001b[0m\u001b[0;34m,\u001b[0m \u001b[0mkeys\u001b[0m\u001b[0;34m,\u001b[0m \u001b[0;34m**\u001b[0m\u001b[0mkwargs\u001b[0m\u001b[0;34m)\u001b[0m\u001b[0;34m\u001b[0m\u001b[0;34m\u001b[0m\u001b[0m\n\u001b[0;32m--> 437\u001b[0;31m     \u001b[0;32mreturn\u001b[0m \u001b[0mrepack\u001b[0m\u001b[0;34m(\u001b[0m\u001b[0;34m[\u001b[0m\u001b[0mf\u001b[0m\u001b[0;34m(\u001b[0m\u001b[0mr\u001b[0m\u001b[0;34m,\u001b[0m \u001b[0;34m*\u001b[0m\u001b[0ma\u001b[0m\u001b[0;34m)\u001b[0m \u001b[0;32mfor\u001b[0m \u001b[0mr\u001b[0m\u001b[0;34m,\u001b[0m \u001b[0;34m(\u001b[0m\u001b[0mf\u001b[0m\u001b[0;34m,\u001b[0m \u001b[0ma\u001b[0m\u001b[0;34m)\u001b[0m \u001b[0;32min\u001b[0m \u001b[0mzip\u001b[0m\u001b[0;34m(\u001b[0m\u001b[0mresults\u001b[0m\u001b[0;34m,\u001b[0m \u001b[0mpostcomputes\u001b[0m\u001b[0;34m)\u001b[0m\u001b[0;34m]\u001b[0m\u001b[0;34m)\u001b[0m\u001b[0;34m\u001b[0m\u001b[0;34m\u001b[0m\u001b[0m\n\u001b[0m\u001b[1;32m    438\u001b[0m \u001b[0;34m\u001b[0m\u001b[0m\n\u001b[1;32m    439\u001b[0m \u001b[0;34m\u001b[0m\u001b[0m\n",
      "\u001b[0;32m~/miniconda3/envs/ensemble/lib/python3.7/site-packages/dask/array/core.py\u001b[0m in \u001b[0;36mfinalize\u001b[0;34m(results)\u001b[0m\n\u001b[1;32m    962\u001b[0m     \u001b[0;32mwhile\u001b[0m \u001b[0misinstance\u001b[0m\u001b[0;34m(\u001b[0m\u001b[0mresults2\u001b[0m\u001b[0;34m,\u001b[0m \u001b[0;34m(\u001b[0m\u001b[0mtuple\u001b[0m\u001b[0;34m,\u001b[0m \u001b[0mlist\u001b[0m\u001b[0;34m)\u001b[0m\u001b[0;34m)\u001b[0m\u001b[0;34m:\u001b[0m\u001b[0;34m\u001b[0m\u001b[0;34m\u001b[0m\u001b[0m\n\u001b[1;32m    963\u001b[0m         \u001b[0;32mif\u001b[0m \u001b[0mlen\u001b[0m\u001b[0;34m(\u001b[0m\u001b[0mresults2\u001b[0m\u001b[0;34m)\u001b[0m \u001b[0;34m>\u001b[0m \u001b[0;36m1\u001b[0m\u001b[0;34m:\u001b[0m\u001b[0;34m\u001b[0m\u001b[0;34m\u001b[0m\u001b[0m\n\u001b[0;32m--> 964\u001b[0;31m             \u001b[0;32mreturn\u001b[0m \u001b[0mconcatenate3\u001b[0m\u001b[0;34m(\u001b[0m\u001b[0mresults\u001b[0m\u001b[0;34m)\u001b[0m\u001b[0;34m\u001b[0m\u001b[0;34m\u001b[0m\u001b[0m\n\u001b[0m\u001b[1;32m    965\u001b[0m         \u001b[0;32melse\u001b[0m\u001b[0;34m:\u001b[0m\u001b[0;34m\u001b[0m\u001b[0;34m\u001b[0m\u001b[0m\n\u001b[1;32m    966\u001b[0m             \u001b[0mresults2\u001b[0m \u001b[0;34m=\u001b[0m \u001b[0mresults2\u001b[0m\u001b[0;34m[\u001b[0m\u001b[0;36m0\u001b[0m\u001b[0;34m]\u001b[0m\u001b[0;34m\u001b[0m\u001b[0;34m\u001b[0m\u001b[0m\n",
      "\u001b[0;32m~/miniconda3/envs/ensemble/lib/python3.7/site-packages/dask/array/core.py\u001b[0m in \u001b[0;36mconcatenate3\u001b[0;34m(arrays)\u001b[0m\n\u001b[1;32m   4292\u001b[0m     \u001b[0;32mif\u001b[0m \u001b[0;32mnot\u001b[0m \u001b[0mndim\u001b[0m\u001b[0;34m:\u001b[0m\u001b[0;34m\u001b[0m\u001b[0;34m\u001b[0m\u001b[0m\n\u001b[1;32m   4293\u001b[0m         \u001b[0;32mreturn\u001b[0m \u001b[0marrays\u001b[0m\u001b[0;34m\u001b[0m\u001b[0;34m\u001b[0m\u001b[0m\n\u001b[0;32m-> 4294\u001b[0;31m     \u001b[0mchunks\u001b[0m \u001b[0;34m=\u001b[0m \u001b[0mchunks_from_arrays\u001b[0m\u001b[0;34m(\u001b[0m\u001b[0marrays\u001b[0m\u001b[0;34m)\u001b[0m\u001b[0;34m\u001b[0m\u001b[0;34m\u001b[0m\u001b[0m\n\u001b[0m\u001b[1;32m   4295\u001b[0m     \u001b[0mshape\u001b[0m \u001b[0;34m=\u001b[0m \u001b[0mtuple\u001b[0m\u001b[0;34m(\u001b[0m\u001b[0mmap\u001b[0m\u001b[0;34m(\u001b[0m\u001b[0msum\u001b[0m\u001b[0;34m,\u001b[0m \u001b[0mchunks\u001b[0m\u001b[0;34m)\u001b[0m\u001b[0;34m)\u001b[0m\u001b[0;34m\u001b[0m\u001b[0;34m\u001b[0m\u001b[0m\n\u001b[1;32m   4296\u001b[0m \u001b[0;34m\u001b[0m\u001b[0m\n",
      "\u001b[0;32m~/miniconda3/envs/ensemble/lib/python3.7/site-packages/dask/array/core.py\u001b[0m in \u001b[0;36mchunks_from_arrays\u001b[0;34m(arrays)\u001b[0m\n\u001b[1;32m   4072\u001b[0m \u001b[0;34m\u001b[0m\u001b[0m\n\u001b[1;32m   4073\u001b[0m     \u001b[0;32mwhile\u001b[0m \u001b[0misinstance\u001b[0m\u001b[0;34m(\u001b[0m\u001b[0marrays\u001b[0m\u001b[0;34m,\u001b[0m \u001b[0;34m(\u001b[0m\u001b[0mlist\u001b[0m\u001b[0;34m,\u001b[0m \u001b[0mtuple\u001b[0m\u001b[0;34m)\u001b[0m\u001b[0;34m)\u001b[0m\u001b[0;34m:\u001b[0m\u001b[0;34m\u001b[0m\u001b[0;34m\u001b[0m\u001b[0m\n\u001b[0;32m-> 4074\u001b[0;31m         \u001b[0mresult\u001b[0m\u001b[0;34m.\u001b[0m\u001b[0mappend\u001b[0m\u001b[0;34m(\u001b[0m\u001b[0mtuple\u001b[0m\u001b[0;34m(\u001b[0m\u001b[0;34m[\u001b[0m\u001b[0mshape\u001b[0m\u001b[0;34m(\u001b[0m\u001b[0mdeepfirst\u001b[0m\u001b[0;34m(\u001b[0m\u001b[0ma\u001b[0m\u001b[0;34m)\u001b[0m\u001b[0;34m)\u001b[0m\u001b[0;34m[\u001b[0m\u001b[0mdim\u001b[0m\u001b[0;34m]\u001b[0m \u001b[0;32mfor\u001b[0m \u001b[0ma\u001b[0m \u001b[0;32min\u001b[0m \u001b[0marrays\u001b[0m\u001b[0;34m]\u001b[0m\u001b[0;34m)\u001b[0m\u001b[0;34m)\u001b[0m\u001b[0;34m\u001b[0m\u001b[0;34m\u001b[0m\u001b[0m\n\u001b[0m\u001b[1;32m   4075\u001b[0m         \u001b[0marrays\u001b[0m \u001b[0;34m=\u001b[0m \u001b[0marrays\u001b[0m\u001b[0;34m[\u001b[0m\u001b[0;36m0\u001b[0m\u001b[0;34m]\u001b[0m\u001b[0;34m\u001b[0m\u001b[0;34m\u001b[0m\u001b[0m\n\u001b[1;32m   4076\u001b[0m         \u001b[0mdim\u001b[0m \u001b[0;34m+=\u001b[0m \u001b[0;36m1\u001b[0m\u001b[0;34m\u001b[0m\u001b[0;34m\u001b[0m\u001b[0m\n",
      "\u001b[0;32m~/miniconda3/envs/ensemble/lib/python3.7/site-packages/dask/array/core.py\u001b[0m in \u001b[0;36m<listcomp>\u001b[0;34m(.0)\u001b[0m\n\u001b[1;32m   4072\u001b[0m \u001b[0;34m\u001b[0m\u001b[0m\n\u001b[1;32m   4073\u001b[0m     \u001b[0;32mwhile\u001b[0m \u001b[0misinstance\u001b[0m\u001b[0;34m(\u001b[0m\u001b[0marrays\u001b[0m\u001b[0;34m,\u001b[0m \u001b[0;34m(\u001b[0m\u001b[0mlist\u001b[0m\u001b[0;34m,\u001b[0m \u001b[0mtuple\u001b[0m\u001b[0;34m)\u001b[0m\u001b[0;34m)\u001b[0m\u001b[0;34m:\u001b[0m\u001b[0;34m\u001b[0m\u001b[0;34m\u001b[0m\u001b[0m\n\u001b[0;32m-> 4074\u001b[0;31m         \u001b[0mresult\u001b[0m\u001b[0;34m.\u001b[0m\u001b[0mappend\u001b[0m\u001b[0;34m(\u001b[0m\u001b[0mtuple\u001b[0m\u001b[0;34m(\u001b[0m\u001b[0;34m[\u001b[0m\u001b[0mshape\u001b[0m\u001b[0;34m(\u001b[0m\u001b[0mdeepfirst\u001b[0m\u001b[0;34m(\u001b[0m\u001b[0ma\u001b[0m\u001b[0;34m)\u001b[0m\u001b[0;34m)\u001b[0m\u001b[0;34m[\u001b[0m\u001b[0mdim\u001b[0m\u001b[0;34m]\u001b[0m \u001b[0;32mfor\u001b[0m \u001b[0ma\u001b[0m \u001b[0;32min\u001b[0m \u001b[0marrays\u001b[0m\u001b[0;34m]\u001b[0m\u001b[0;34m)\u001b[0m\u001b[0;34m)\u001b[0m\u001b[0;34m\u001b[0m\u001b[0;34m\u001b[0m\u001b[0m\n\u001b[0m\u001b[1;32m   4075\u001b[0m         \u001b[0marrays\u001b[0m \u001b[0;34m=\u001b[0m \u001b[0marrays\u001b[0m\u001b[0;34m[\u001b[0m\u001b[0;36m0\u001b[0m\u001b[0;34m]\u001b[0m\u001b[0;34m\u001b[0m\u001b[0;34m\u001b[0m\u001b[0m\n\u001b[1;32m   4076\u001b[0m         \u001b[0mdim\u001b[0m \u001b[0;34m+=\u001b[0m \u001b[0;36m1\u001b[0m\u001b[0;34m\u001b[0m\u001b[0;34m\u001b[0m\u001b[0m\n",
      "\u001b[0;31mIndexError\u001b[0m: tuple index out of range"
     ]
    }
   ],
   "source": [
    "with ProgressBar():\n",
    "    vdz = xr.apply_ufunc(layers_numpy, \n",
    "                        v_in,\n",
    "                        densy_in,\n",
    "                        kwargs={'thetalayers':siglayers,'mapfact':mapfact,\n",
    "                                'mapindex':mapindex,'cellindex':cellindex,\n",
    "                                'drf_finer':drf_finer},\n",
    "                        dask='parallelized', \n",
    "                        input_core_dims=[['Z'],['Z']], \n",
    "                        output_core_dims=[['sig2lev']],\n",
    "#                            output_core_dims=(['sig2lev']),\n",
    "#                            exclude_dims=set(['Z']),\n",
    "                        output_dtypes=[float,], output_sizes={'sig2lev':siglayers.size}\n",
    "                        ).compute()\n",
    "    \n",
    "#     zetab0 = xr.apply_ufunc(layers_numpy, \n",
    "#                            (xr.ones_like(dens_in[0]) * ds.Z).where(ds.maskC!=0.).sel(Z=slice(None,None)),\n",
    "# #                          v_in[0].sel(Z=slice(None,-1e3)),\n",
    "#                            dens_in[0].sel(Z=slice(None,None)),\n",
    "#                            kwargs={'thetalayers':siglayers,'mapfact':mapfact,\n",
    "#                                    'mapindex':mapindex,'cellindex':cellindex,\n",
    "#                                    'drf_finer':drf_finer},\n",
    "#                            dask='parallelized', \n",
    "#                            input_core_dims=[['Z'],['Z']], \n",
    "#                            output_core_dims=[['sig2lev']],\n",
    "# #                            output_core_dims=(['sig2lev']),\n",
    "# #                            exclude_dims=set(['Z']),\n",
    "#                            output_dtypes=[float,], output_sizes={'sig2lev':siglayers.size}\n",
    "#                            ).compute()\n",
    "vdz = vdz.assign_coords({'sig2lev':siglayers})\n",
    "# zetab0 = zetab0.assign_coords({'sig2lev':siglayers})"
   ]
  },
  {
   "cell_type": "code",
   "execution_count": 13,
   "metadata": {},
   "outputs": [
    {
     "data": {
      "text/plain": [
       "\u001b[0;31mSignature:\u001b[0m\n",
       "\u001b[0mlayers_numpy\u001b[0m\u001b[0;34m(\u001b[0m\u001b[0;34m\u001b[0m\n",
       "\u001b[0;34m\u001b[0m    \u001b[0mv_in\u001b[0m\u001b[0;34m,\u001b[0m\u001b[0;34m\u001b[0m\n",
       "\u001b[0;34m\u001b[0m    \u001b[0mtheta_in\u001b[0m\u001b[0;34m,\u001b[0m\u001b[0;34m\u001b[0m\n",
       "\u001b[0;34m\u001b[0m    \u001b[0mthetalayers\u001b[0m\u001b[0;34m,\u001b[0m\u001b[0;34m\u001b[0m\n",
       "\u001b[0;34m\u001b[0m    \u001b[0mmapfact\u001b[0m\u001b[0;34m,\u001b[0m\u001b[0;34m\u001b[0m\n",
       "\u001b[0;34m\u001b[0m    \u001b[0mmapindex\u001b[0m\u001b[0;34m,\u001b[0m\u001b[0;34m\u001b[0m\n",
       "\u001b[0;34m\u001b[0m    \u001b[0mcellindex\u001b[0m\u001b[0;34m,\u001b[0m\u001b[0;34m\u001b[0m\n",
       "\u001b[0;34m\u001b[0m    \u001b[0mdrf_finer\u001b[0m\u001b[0;34m,\u001b[0m\u001b[0;34m\u001b[0m\n",
       "\u001b[0;34m\u001b[0m\u001b[0;34m)\u001b[0m\u001b[0;34m\u001b[0m\u001b[0;34m\u001b[0m\u001b[0m\n",
       "\u001b[0;31mDocstring:\u001b[0m <no docstring>\n",
       "\u001b[0;31mFile:\u001b[0m      ~/miniconda3/envs/ensemble/lib/python3.7/site-packages/xlayers-0+untagged.18.g65af60b-py3.7-linux-x86_64.egg/xlayers/core.py\n",
       "\u001b[0;31mType:\u001b[0m      function\n"
      ]
     },
     "metadata": {},
     "output_type": "display_data"
    }
   ],
   "source": [
    "layers_numpy?"
   ]
  },
  {
   "cell_type": "code",
   "execution_count": null,
   "metadata": {},
   "outputs": [],
   "source": []
  }
 ],
 "metadata": {
  "kernelspec": {
   "display_name": "Python 3",
   "language": "python",
   "name": "python3"
  },
  "language_info": {
   "codemirror_mode": {
    "name": "ipython",
    "version": 3
   },
   "file_extension": ".py",
   "mimetype": "text/x-python",
   "name": "python",
   "nbconvert_exporter": "python",
   "pygments_lexer": "ipython3",
   "version": "3.7.3"
  }
 },
 "nbformat": 4,
 "nbformat_minor": 4
}
